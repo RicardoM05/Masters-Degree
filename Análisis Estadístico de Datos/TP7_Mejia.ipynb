{
 "cells": [
  {
   "cell_type": "markdown",
   "metadata": {
    "id": "vNeE23OUxoV-"
   },
   "source": [
    "# Final Análisis Estadístico de Datos"
   ]
  },
  {
   "cell_type": "markdown",
   "metadata": {},
   "source": [
    "**Nombre**: Oscar Ricardo Mejía Parra\n",
    "\n",
    "**Cuatrimestre**: Agosto-Diciembre 2024 "
   ]
  },
  {
   "cell_type": "markdown",
   "metadata": {
    "id": "EfbpnSY50UoY"
   },
   "source": [
    "Un experimento consiste en contar el número de partículas detectadas por un detector ($k$) sobre un total de partículas incidentes ($n$) para medir la eficiencia del detector. El experimento se repite para distintas energías de las partículas incidentes ($E$). Buscamos ajustar un modelo de la eficiencia $\\varepsilon$ en función de la energía en base a los datos medidos. La siguiente tabla muestra los resultados del experimento.  "
   ]
  },
  {
   "cell_type": "code",
   "execution_count": 1,
   "metadata": {
    "colab": {
     "base_uri": "https://localhost:8080/",
     "height": 676
    },
    "executionInfo": {
     "elapsed": 14,
     "status": "ok",
     "timestamp": 1701262169131,
     "user": {
      "displayName": "Diego Ravignani Guerrero",
      "userId": "10540030550289703153"
     },
     "user_tz": 180
    },
    "id": "KiQIVO_erpbM",
    "outputId": "bf776c1d-fdfb-4054-f4d9-fa0eafbe8fde"
   },
   "outputs": [
    {
     "data": {
      "text/html": [
       "<div>\n",
       "<style scoped>\n",
       "    .dataframe tbody tr th:only-of-type {\n",
       "        vertical-align: middle;\n",
       "    }\n",
       "\n",
       "    .dataframe tbody tr th {\n",
       "        vertical-align: top;\n",
       "    }\n",
       "\n",
       "    .dataframe thead th {\n",
       "        text-align: right;\n",
       "    }\n",
       "</style>\n",
       "<table border=\"1\" class=\"dataframe\">\n",
       "  <thead>\n",
       "    <tr style=\"text-align: right;\">\n",
       "      <th></th>\n",
       "      <th>Energy</th>\n",
       "      <th>Total</th>\n",
       "      <th>Observed</th>\n",
       "    </tr>\n",
       "  </thead>\n",
       "  <tbody>\n",
       "    <tr>\n",
       "      <th>0</th>\n",
       "      <td>0.05</td>\n",
       "      <td>30</td>\n",
       "      <td>0</td>\n",
       "    </tr>\n",
       "    <tr>\n",
       "      <th>1</th>\n",
       "      <td>0.10</td>\n",
       "      <td>30</td>\n",
       "      <td>0</td>\n",
       "    </tr>\n",
       "    <tr>\n",
       "      <th>2</th>\n",
       "      <td>0.15</td>\n",
       "      <td>30</td>\n",
       "      <td>0</td>\n",
       "    </tr>\n",
       "    <tr>\n",
       "      <th>3</th>\n",
       "      <td>0.20</td>\n",
       "      <td>30</td>\n",
       "      <td>3</td>\n",
       "    </tr>\n",
       "    <tr>\n",
       "      <th>4</th>\n",
       "      <td>0.25</td>\n",
       "      <td>30</td>\n",
       "      <td>3</td>\n",
       "    </tr>\n",
       "    <tr>\n",
       "      <th>5</th>\n",
       "      <td>0.30</td>\n",
       "      <td>30</td>\n",
       "      <td>2</td>\n",
       "    </tr>\n",
       "    <tr>\n",
       "      <th>6</th>\n",
       "      <td>0.35</td>\n",
       "      <td>30</td>\n",
       "      <td>8</td>\n",
       "    </tr>\n",
       "    <tr>\n",
       "      <th>7</th>\n",
       "      <td>0.40</td>\n",
       "      <td>30</td>\n",
       "      <td>5</td>\n",
       "    </tr>\n",
       "    <tr>\n",
       "      <th>8</th>\n",
       "      <td>0.45</td>\n",
       "      <td>30</td>\n",
       "      <td>4</td>\n",
       "    </tr>\n",
       "    <tr>\n",
       "      <th>9</th>\n",
       "      <td>0.50</td>\n",
       "      <td>30</td>\n",
       "      <td>11</td>\n",
       "    </tr>\n",
       "    <tr>\n",
       "      <th>10</th>\n",
       "      <td>0.55</td>\n",
       "      <td>30</td>\n",
       "      <td>18</td>\n",
       "    </tr>\n",
       "    <tr>\n",
       "      <th>11</th>\n",
       "      <td>0.60</td>\n",
       "      <td>30</td>\n",
       "      <td>15</td>\n",
       "    </tr>\n",
       "    <tr>\n",
       "      <th>12</th>\n",
       "      <td>0.65</td>\n",
       "      <td>30</td>\n",
       "      <td>19</td>\n",
       "    </tr>\n",
       "    <tr>\n",
       "      <th>13</th>\n",
       "      <td>0.70</td>\n",
       "      <td>30</td>\n",
       "      <td>20</td>\n",
       "    </tr>\n",
       "    <tr>\n",
       "      <th>14</th>\n",
       "      <td>0.75</td>\n",
       "      <td>30</td>\n",
       "      <td>26</td>\n",
       "    </tr>\n",
       "    <tr>\n",
       "      <th>15</th>\n",
       "      <td>0.80</td>\n",
       "      <td>30</td>\n",
       "      <td>24</td>\n",
       "    </tr>\n",
       "    <tr>\n",
       "      <th>16</th>\n",
       "      <td>0.85</td>\n",
       "      <td>30</td>\n",
       "      <td>26</td>\n",
       "    </tr>\n",
       "    <tr>\n",
       "      <th>17</th>\n",
       "      <td>0.90</td>\n",
       "      <td>30</td>\n",
       "      <td>29</td>\n",
       "    </tr>\n",
       "    <tr>\n",
       "      <th>18</th>\n",
       "      <td>0.95</td>\n",
       "      <td>30</td>\n",
       "      <td>30</td>\n",
       "    </tr>\n",
       "    <tr>\n",
       "      <th>19</th>\n",
       "      <td>1.00</td>\n",
       "      <td>30</td>\n",
       "      <td>30</td>\n",
       "    </tr>\n",
       "  </tbody>\n",
       "</table>\n",
       "</div>"
      ],
      "text/plain": [
       "    Energy  Total  Observed\n",
       "0     0.05     30         0\n",
       "1     0.10     30         0\n",
       "2     0.15     30         0\n",
       "3     0.20     30         3\n",
       "4     0.25     30         3\n",
       "5     0.30     30         2\n",
       "6     0.35     30         8\n",
       "7     0.40     30         5\n",
       "8     0.45     30         4\n",
       "9     0.50     30        11\n",
       "10    0.55     30        18\n",
       "11    0.60     30        15\n",
       "12    0.65     30        19\n",
       "13    0.70     30        20\n",
       "14    0.75     30        26\n",
       "15    0.80     30        24\n",
       "16    0.85     30        26\n",
       "17    0.90     30        29\n",
       "18    0.95     30        30\n",
       "19    1.00     30        30"
      ]
     },
     "execution_count": 1,
     "metadata": {},
     "output_type": "execute_result"
    }
   ],
   "source": [
    "import numpy as np\n",
    "import pandas as pd\n",
    "energy = np.arange(start=0.05, stop=1.05, step=0.05)\n",
    "ntrials = 30\n",
    "total_particles = np.full(energy.shape, ntrials)\n",
    "observed_particles = np.array([0, 0, 0, 3, 3, 2, 8, 5, 4, 11, 18, 15, 19, 20, 26, 24, 26, 29, 30, 30])\n",
    "data = pd.DataFrame(data = {'Energy': energy, 'Total': total_particles, 'Observed': observed_particles})\n",
    "data"
   ]
  },
  {
   "cell_type": "markdown",
   "metadata": {},
   "source": [
    "**1**. Calcular el estimador de la eficiencia del detector ($\\hat\\varepsilon$) para cada energía"
   ]
  },
  {
   "cell_type": "code",
   "execution_count": 5,
   "metadata": {},
   "outputs": [
    {
     "data": {
      "text/html": [
       "<div>\n",
       "<style scoped>\n",
       "    .dataframe tbody tr th:only-of-type {\n",
       "        vertical-align: middle;\n",
       "    }\n",
       "\n",
       "    .dataframe tbody tr th {\n",
       "        vertical-align: top;\n",
       "    }\n",
       "\n",
       "    .dataframe thead th {\n",
       "        text-align: right;\n",
       "    }\n",
       "</style>\n",
       "<table border=\"1\" class=\"dataframe\">\n",
       "  <thead>\n",
       "    <tr style=\"text-align: right;\">\n",
       "      <th></th>\n",
       "      <th>Energy</th>\n",
       "      <th>Total</th>\n",
       "      <th>Observed</th>\n",
       "      <th>Efficiency</th>\n",
       "    </tr>\n",
       "  </thead>\n",
       "  <tbody>\n",
       "    <tr>\n",
       "      <th>0</th>\n",
       "      <td>0.05</td>\n",
       "      <td>30</td>\n",
       "      <td>0</td>\n",
       "      <td>0.00</td>\n",
       "    </tr>\n",
       "    <tr>\n",
       "      <th>1</th>\n",
       "      <td>0.10</td>\n",
       "      <td>30</td>\n",
       "      <td>0</td>\n",
       "      <td>0.00</td>\n",
       "    </tr>\n",
       "    <tr>\n",
       "      <th>2</th>\n",
       "      <td>0.15</td>\n",
       "      <td>30</td>\n",
       "      <td>0</td>\n",
       "      <td>0.00</td>\n",
       "    </tr>\n",
       "    <tr>\n",
       "      <th>3</th>\n",
       "      <td>0.20</td>\n",
       "      <td>30</td>\n",
       "      <td>3</td>\n",
       "      <td>0.10</td>\n",
       "    </tr>\n",
       "    <tr>\n",
       "      <th>4</th>\n",
       "      <td>0.25</td>\n",
       "      <td>30</td>\n",
       "      <td>3</td>\n",
       "      <td>0.10</td>\n",
       "    </tr>\n",
       "    <tr>\n",
       "      <th>5</th>\n",
       "      <td>0.30</td>\n",
       "      <td>30</td>\n",
       "      <td>2</td>\n",
       "      <td>0.07</td>\n",
       "    </tr>\n",
       "    <tr>\n",
       "      <th>6</th>\n",
       "      <td>0.35</td>\n",
       "      <td>30</td>\n",
       "      <td>8</td>\n",
       "      <td>0.27</td>\n",
       "    </tr>\n",
       "    <tr>\n",
       "      <th>7</th>\n",
       "      <td>0.40</td>\n",
       "      <td>30</td>\n",
       "      <td>5</td>\n",
       "      <td>0.17</td>\n",
       "    </tr>\n",
       "    <tr>\n",
       "      <th>8</th>\n",
       "      <td>0.45</td>\n",
       "      <td>30</td>\n",
       "      <td>4</td>\n",
       "      <td>0.13</td>\n",
       "    </tr>\n",
       "    <tr>\n",
       "      <th>9</th>\n",
       "      <td>0.50</td>\n",
       "      <td>30</td>\n",
       "      <td>11</td>\n",
       "      <td>0.37</td>\n",
       "    </tr>\n",
       "    <tr>\n",
       "      <th>10</th>\n",
       "      <td>0.55</td>\n",
       "      <td>30</td>\n",
       "      <td>18</td>\n",
       "      <td>0.60</td>\n",
       "    </tr>\n",
       "    <tr>\n",
       "      <th>11</th>\n",
       "      <td>0.60</td>\n",
       "      <td>30</td>\n",
       "      <td>15</td>\n",
       "      <td>0.50</td>\n",
       "    </tr>\n",
       "    <tr>\n",
       "      <th>12</th>\n",
       "      <td>0.65</td>\n",
       "      <td>30</td>\n",
       "      <td>19</td>\n",
       "      <td>0.63</td>\n",
       "    </tr>\n",
       "    <tr>\n",
       "      <th>13</th>\n",
       "      <td>0.70</td>\n",
       "      <td>30</td>\n",
       "      <td>20</td>\n",
       "      <td>0.67</td>\n",
       "    </tr>\n",
       "    <tr>\n",
       "      <th>14</th>\n",
       "      <td>0.75</td>\n",
       "      <td>30</td>\n",
       "      <td>26</td>\n",
       "      <td>0.87</td>\n",
       "    </tr>\n",
       "    <tr>\n",
       "      <th>15</th>\n",
       "      <td>0.80</td>\n",
       "      <td>30</td>\n",
       "      <td>24</td>\n",
       "      <td>0.80</td>\n",
       "    </tr>\n",
       "    <tr>\n",
       "      <th>16</th>\n",
       "      <td>0.85</td>\n",
       "      <td>30</td>\n",
       "      <td>26</td>\n",
       "      <td>0.87</td>\n",
       "    </tr>\n",
       "    <tr>\n",
       "      <th>17</th>\n",
       "      <td>0.90</td>\n",
       "      <td>30</td>\n",
       "      <td>29</td>\n",
       "      <td>0.97</td>\n",
       "    </tr>\n",
       "    <tr>\n",
       "      <th>18</th>\n",
       "      <td>0.95</td>\n",
       "      <td>30</td>\n",
       "      <td>30</td>\n",
       "      <td>1.00</td>\n",
       "    </tr>\n",
       "    <tr>\n",
       "      <th>19</th>\n",
       "      <td>1.00</td>\n",
       "      <td>30</td>\n",
       "      <td>30</td>\n",
       "      <td>1.00</td>\n",
       "    </tr>\n",
       "  </tbody>\n",
       "</table>\n",
       "</div>"
      ],
      "text/plain": [
       "    Energy  Total  Observed  Efficiency\n",
       "0     0.05     30         0        0.00\n",
       "1     0.10     30         0        0.00\n",
       "2     0.15     30         0        0.00\n",
       "3     0.20     30         3        0.10\n",
       "4     0.25     30         3        0.10\n",
       "5     0.30     30         2        0.07\n",
       "6     0.35     30         8        0.27\n",
       "7     0.40     30         5        0.17\n",
       "8     0.45     30         4        0.13\n",
       "9     0.50     30        11        0.37\n",
       "10    0.55     30        18        0.60\n",
       "11    0.60     30        15        0.50\n",
       "12    0.65     30        19        0.63\n",
       "13    0.70     30        20        0.67\n",
       "14    0.75     30        26        0.87\n",
       "15    0.80     30        24        0.80\n",
       "16    0.85     30        26        0.87\n",
       "17    0.90     30        29        0.97\n",
       "18    0.95     30        30        1.00\n",
       "19    1.00     30        30        1.00"
      ]
     },
     "execution_count": 5,
     "metadata": {},
     "output_type": "execute_result"
    }
   ],
   "source": [
    "data['Efficiency'] = data['Observed'] / data['Total']\n",
    "data['Efficiency'] = data['Efficiency'].round(2)\n",
    "data"
   ]
  },
  {
   "cell_type": "markdown",
   "metadata": {},
   "source": [
    "**2**. Graficar el estimador de la eficiencia ($\\hat\\varepsilon$) en función de la energía "
   ]
  },
  {
   "cell_type": "code",
   "execution_count": 107,
   "metadata": {},
   "outputs": [
    {
     "data": {
      "image/png": "[encoded data removed]",
      "text/plain": [
       "<Figure size 800x500 with 1 Axes>"
      ]
     },
     "metadata": {},
     "output_type": "display_data"
    }
   ],
   "source": [
    "import matplotlib.pyplot as plt\n",
    "\n",
    "plt.figure(figsize=(8, 5))\n",
    "plt.plot(data['Energy'], data['Efficiency'], 'ro-', label='Eficiencia estimada')\n",
    "plt.title('Estimador de la Eficiencia vs Energía', fontsize=10)\n",
    "plt.xlabel('E', fontsize=12)\n",
    "plt.ylabel('$\\\\hat{\\\\varepsilon}$', fontsize=15)\n",
    "plt.grid()\n",
    "plt.legend(fontsize=10)\n",
    "plt.show()"
   ]
  },
  {
   "cell_type": "markdown",
   "metadata": {
    "executionInfo": {
     "elapsed": 13,
     "status": "ok",
     "timestamp": 1701262169132,
     "user": {
      "displayName": "Diego Ravignani Guerrero",
      "userId": "10540030550289703153"
     },
     "user_tz": 180
    },
    "id": "PMdcfIEL03lL"
   },
   "source": [
    "**3**. Escribir el código para el modelo del ajuste  \n",
    "El modelo de la eficiencia en función de la energía es la función sigmoide,\n",
    "\\begin{equation}\n",
    "\\varepsilon(E;a,b)=\\frac{1}{1+\\exp(-(E-a)/b)},\n",
    "\\end{equation}\n",
    "con $a$ y $b$ los parámetros del ajuste. "
   ]
  },
  {
   "cell_type": "code",
   "execution_count": 17,
   "metadata": {},
   "outputs": [],
   "source": [
    "def fit_model(E, par):\n",
    "    a = par[0]\n",
    "    b = par[1]\n",
    "    return 1 / (1 + np.exp(-(E - a) / b))"
   ]
  },
  {
   "cell_type": "markdown",
   "metadata": {
    "id": "34OPxWzr0p-z"
   },
   "source": [
    "**4**. Ajustar los datos con el modelo de la eficiencia con una función de costo Binomial"
   ]
  },
  {
   "cell_type": "code",
   "execution_count": 21,
   "metadata": {},
   "outputs": [],
   "source": [
    "import likefit"
   ]
  },
  {
   "cell_type": "code",
   "execution_count": 75,
   "metadata": {},
   "outputs": [
    {
     "name": "stdout",
     "output_type": "stream",
     "text": [
      "Help on class Binomial in module likefit:\n",
      "\n",
      "class Binomial(LikelihoodFitter)\n",
      " |  Binomial(x, ntrials, nsuccess, model)\n",
      " |\n",
      " |  Binomial fitter based on the LikelihoodFitter base class.\n",
      " |\n",
      " |  Parameters\n",
      " |  ----------\n",
      " |  ntrials : array_like\n",
      " |      The number of trials data.\n",
      " |  nsuccess : array_like\n",
      " |      The number of successful trials data.\n",
      " |  model : callable\n",
      " |      The Binomial model function to fit the data.\n",
      " |\n",
      " |  Attributes\n",
      " |  ----------\n",
      " |  ntrials : array_like\n",
      " |      The number of trials data.\n",
      " |  nsuccess : array_like\n",
      " |      The number of successful trials data.\n",
      " |  model : callable\n",
      " |      The model function to fit the data.\n",
      " |\n",
      " |  Method resolution order:\n",
      " |      Binomial\n",
      " |      LikelihoodFitter\n",
      " |      abc.ABC\n",
      " |      builtins.object\n",
      " |\n",
      " |  Methods defined here:\n",
      " |\n",
      " |  __init__(self, x, ntrials, nsuccess, model)\n",
      " |      Initialize the Binomial fitter instance.\n",
      " |\n",
      " |      Parameters\n",
      " |      ----------\n",
      " |      ntrials : array_like\n",
      " |          The number of trials data.\n",
      " |      nsuccess : array_like\n",
      " |          The number of successful trials data.\n",
      " |      model : callable\n",
      " |          The model function to fit the data.\n",
      " |\n",
      " |  cost_function(self, par)\n",
      " |      Calculate the Binomial cost function for the fit.\n",
      " |\n",
      " |      Parameters\n",
      " |      ----------\n",
      " |      par : np.ndarray\n",
      " |          The parameters to evaluate the cost function.\n",
      " |\n",
      " |      Returns\n",
      " |      -------\n",
      " |      float\n",
      " |          The value of the Binomial cost function.\n",
      " |\n",
      " |  get_ydata(self)\n",
      " |      Get the probability of success for each trial data.\n",
      " |\n",
      " |      Returns\n",
      " |      -------\n",
      " |      np.ndarray\n",
      " |          Array containing the probability of success for each trial data.\n",
      " |\n",
      " |  get_ydata_errors(self)\n",
      " |      Get the approximated Binomial errors associated with the probability of success.\n",
      " |\n",
      " |      Returns\n",
      " |      -------\n",
      " |      np.ndarray\n",
      " |          Array containing the approximated Binomial errors.\n",
      " |\n",
      " |      Notes\n",
      " |      -----\n",
      " |      These approximated errors are invalid in the limits of the number of successes is equal to zero or\n",
      " |      to the number of trials.\n",
      " |\n",
      " |  ----------------------------------------------------------------------\n",
      " |  Data and other attributes defined here:\n",
      " |\n",
      " |  __abstractmethods__ = frozenset()\n",
      " |\n",
      " |  ----------------------------------------------------------------------\n",
      " |  Methods inherited from LikelihoodFitter:\n",
      " |\n",
      " |  fit(self, seed, **kwargs)\n",
      " |      Fit the model to the data.\n",
      " |\n",
      " |      Parameters\n",
      " |      ----------\n",
      " |      seed : array_like\n",
      " |          Initial guess for the parameters.\n",
      " |      **kwargs\n",
      " |          Additional keyword arguments passed to scipy.optimize.minimize.\n",
      " |\n",
      " |      Returns\n",
      " |      -------\n",
      " |      int\n",
      " |          Status code of the optimization process.\n",
      " |\n",
      " |  get_chi_square(self)\n",
      " |      Get the chi-square statistic of the fit.\n",
      " |\n",
      " |      Returns\n",
      " |      -------\n",
      " |      float\n",
      " |          The chi-square statistic of the fit.\n",
      " |\n",
      " |  get_confidence_ellipse(self, xindex, yindex, nsigma: int = 1, npoints: int = 100)\n",
      " |      Get the confidence ellipse for a pair of parameters.\n",
      " |\n",
      " |      Parameters\n",
      " |      ----------\n",
      " |      xindex : int\n",
      " |          Index of the x-axis parameter.\n",
      " |      yindex : int\n",
      " |          Index of the y-axis parameter.\n",
      " |      nsigma : int, optional\n",
      " |          Number of standard deviations for the confidence ellipse. Default is 1.\n",
      " |      npoints : int, optional\n",
      " |          Number of points to use for the ellipse. Default is 100.\n",
      " |\n",
      " |      Returns\n",
      " |      -------\n",
      " |      np.ndarray\n",
      " |          Array containing the coordinates of the confidence ellipse.\n",
      " |\n",
      " |  get_correlation_matrix(self)\n",
      " |      Get the correlation matrix of the fitted parameters.\n",
      " |\n",
      " |      Returns\n",
      " |      -------\n",
      " |      np.ndarray\n",
      " |          Correlation matrix of the fitted parameters.\n",
      " |\n",
      " |  get_covariance_matrix(self)\n",
      " |      Get the covariance matrix of the fitted parameters.\n",
      " |\n",
      " |      Returns\n",
      " |      -------\n",
      " |      np.ndarray\n",
      " |          Covariance matrix of the fitted parameters.\n",
      " |\n",
      " |  get_errors(self)\n",
      " |      Get the errors of the fit parameters.\n",
      " |\n",
      " |      Returns\n",
      " |      -------\n",
      " |      np.ndarray\n",
      " |          Array containing the errors of the fit parameters.\n",
      " |\n",
      " |  get_estimators(self)\n",
      " |      Get the maximum likelihood estimators of the fit parameters.\n",
      " |\n",
      " |      Returns\n",
      " |      -------\n",
      " |      np.ndarray\n",
      " |          Array containing the maximum likelihood estimators.\n",
      " |\n",
      " |  get_gradient(self, x)\n",
      " |       Get the numerical derivative of the model with respect to the parameters.\n",
      " |\n",
      " |       Parameters\n",
      " |       ----------\n",
      " |       x : np.ndarray\n",
      " |           Values of the independent variable at which the gradient will be evaluated.\n",
      " |\n",
      " |       Returns\n",
      " |       -------\n",
      " |       np.ndarray\n",
      " |           2D array containing the calculated gradient.\n",
      " |\n",
      " |      Notes\n",
      " |      -----\n",
      " |           The first dimension of the returned array corresponds to the fit parameters and the second\n",
      " |           one to the values of the independent variable\n",
      " |\n",
      " |  get_ndof(self)\n",
      " |      Get the number of degrees of freedom.\n",
      " |\n",
      " |      Returns\n",
      " |      -------\n",
      " |      int\n",
      " |          Number of degrees of freedom.\n",
      " |\n",
      " |  get_pvalue(self)\n",
      " |      Get the p-value of the fit.\n",
      " |\n",
      " |      Returns\n",
      " |      -------\n",
      " |      float\n",
      " |          The p-value of the fit.\n",
      " |\n",
      " |  get_residuals(self)\n",
      " |      Get the residuals calculated as the data minus the fit at each data point.\n",
      " |\n",
      " |      Returns\n",
      " |      -------\n",
      " |      np.ndarray\n",
      " |          Array containing the residuals.\n",
      " |\n",
      " |  get_yfit(self, x)\n",
      " |      Get the model predictions for a given set of independent variables.\n",
      " |\n",
      " |      Parameters\n",
      " |      ----------\n",
      " |      x : np.ndarray\n",
      " |          Values of the independent variable.\n",
      " |\n",
      " |      Returns\n",
      " |      -------\n",
      " |      np.ndarray\n",
      " |          Model predictions for the given independent variable values.\n",
      " |\n",
      " |  get_yfit_error(self, x)\n",
      " |      Get the errors of the model predictions for a given set of independent variables.\n",
      " |\n",
      " |      Parameters\n",
      " |      ----------\n",
      " |      x : np.ndarray\n",
      " |          Values of the independent variable.\n",
      " |\n",
      " |      Returns\n",
      " |      -------\n",
      " |      np.ndarray\n",
      " |          Errors of the model predictions for the given independent variable values.\n",
      " |\n",
      " |  plot_confidence_ellipses(self, parx_index=0, pary_index=1, nsigma=2, ax=None)\n",
      " |      Plot the confidence ellipses for a pair of parameters.\n",
      " |\n",
      " |      Parameters\n",
      " |      ----------\n",
      " |      parx_index : int, optional\n",
      " |          Index of the x-axis parameter. The first parameter is plotted by default.\n",
      " |      pary_index : int, optional\n",
      " |          Index of the y-axis parameter. The second parameter is plotted by default.\n",
      " |      nsigma : int, optional\n",
      " |          Number of confidence ellipses to plot.\n",
      " |      ax : matplotlib.axis.Axis, optional\n",
      " |          Axis to make the plot.\n",
      " |\n",
      " |  plot_confidence_regions(self, parx_index=0, pary_index=1, nsigma=2, ax=None)\n",
      " |      Plot the confidence regions for a pair of parameters.\n",
      " |\n",
      " |      Parameters\n",
      " |      ----------\n",
      " |      parx_index : int\n",
      " |          Index of the x-axis parameter. The first parameter is plotted by default.\n",
      " |      pary_index : int\n",
      " |          Index of the y-axis parameter. The second parameter is plotted by default.\n",
      " |      nsigma : int, optional\n",
      " |          Number of sigma confidence levels to plot.\n",
      " |      ax : matplotlib.axis.Axis, optional\n",
      " |          Axis to make the plot.\n",
      " |\n",
      " |      Returns\n",
      " |      -------\n",
      " |      None\n",
      " |\n",
      " |  plot_cost_function(self, parx_index=0, pary_index=1, nsigma=2, ax=None)\n",
      " |      Plot the surface of the fit cost function for a pair of parameters.\n",
      " |\n",
      " |      Parameters\n",
      " |      ----------\n",
      " |      parx_index : int\n",
      " |          Index of the x-axis parameter. The first parameter is plotted by default.\n",
      " |      pary_index : int\n",
      " |          Index of the y-axis parameter. The second parameter is plotted by default.\n",
      " |      nsigma : int, optional\n",
      " |          Number of sigma confidence levels to include in the plot.\n",
      " |      ax : matplotlib.axis.Axis, optional\n",
      " |          Axis to make the plot.\n",
      " |\n",
      " |  plot_fit(self, xlabel='x', ylabel='y', ax=None)\n",
      " |      Plot the data, the fit, and the error band.\n",
      " |\n",
      " |      Parameters\n",
      " |      ----------\n",
      " |      xlabel : str, optional\n",
      " |          Label for the x-axis.\n",
      " |      ylabel : str, optional\n",
      " |          Label for the y-axis.\n",
      " |      ax : matplotlib.axis.Axis, optional\n",
      " |          Axis to make the plot.\n",
      " |\n",
      " |  print_results(self)\n",
      " |      Print a summary of the fit results including estimators, errors, covariance matrix, and more.\n",
      " |\n",
      " |  vcost_function(self, parx_index, pary_index, parx, pary)\n",
      " |      Vectorized version of the cost function useful for plotting.\n",
      " |\n",
      " |      Parameters\n",
      " |      ----------\n",
      " |      parx_index : int\n",
      " |          Index of the x-axis parameter.\n",
      " |      pary_index : int\n",
      " |          Index of the y-axis parameter.\n",
      " |      parx : array_like\n",
      " |          Values of the x-axis parameter.\n",
      " |      pary : array_like\n",
      " |          Values of the y-axis parameter.\n",
      " |\n",
      " |      Returns\n",
      " |      -------\n",
      " |      np.ndarray\n",
      " |          2D array of the cost values.\n",
      " |\n",
      " |  ----------------------------------------------------------------------\n",
      " |  Data descriptors inherited from LikelihoodFitter:\n",
      " |\n",
      " |  __dict__\n",
      " |      dictionary for instance variables\n",
      " |\n",
      " |  __weakref__\n",
      " |      list of weak references to the object\n",
      "\n"
     ]
    }
   ],
   "source": [
    "help(likefit.Binomial)"
   ]
  },
  {
   "cell_type": "code",
   "execution_count": 23,
   "metadata": {
    "executionInfo": {
     "elapsed": 12,
     "status": "ok",
     "timestamp": 1701262169133,
     "user": {
      "displayName": "Diego Ravignani Guerrero",
      "userId": "10540030550289703153"
     },
     "user_tz": 180
    },
    "id": "WVjusmtC0ql4"
   },
   "outputs": [],
   "source": [
    "fitter = likefit.Binomial(data['Energy'], data['Total'], data['Observed'], fit_model)"
   ]
  },
  {
   "cell_type": "code",
   "execution_count": 36,
   "metadata": {},
   "outputs": [
    {
     "name": "stdout",
     "output_type": "stream",
     "text": [
      "Fit summary\n",
      "Estimators: [0.57149282 0.12099439]\n",
      "Errors: [0.01447036 0.00920591]\n",
      "Covariance matrix: [[2.09391409e-04 3.62288617e-06]\n",
      " [3.62288617e-06 8.47487854e-05]]\n",
      "Correlation matrix: [[1.         0.02719622]\n",
      " [0.02719622 1.        ]]\n",
      "Chi square: 24.01055559005025\n",
      "Degrees of freedom: 18\n",
      "Pvalue: 0.15468226740415675\n"
     ]
    }
   ],
   "source": [
    "initial_parameters = np.array([0.4, 0.1])\n",
    "fit_result = fitter.fit(initial_parameters)\n",
    "fitter.print_results()"
   ]
  },
  {
   "cell_type": "markdown",
   "metadata": {
    "executionInfo": {
     "elapsed": 532,
     "status": "ok",
     "timestamp": 1701262169654,
     "user": {
      "displayName": "Diego Ravignani Guerrero",
      "userId": "10540030550289703153"
     },
     "user_tz": 180
    },
    "id": "WJAIfWHP05Lc"
   },
   "source": [
    "**5**. Reportar los resultados para los parámetros $a$ y $b$ incluyendo los errores correspondientes"
   ]
  },
  {
   "cell_type": "code",
   "execution_count": 38,
   "metadata": {},
   "outputs": [
    {
     "name": "stdout",
     "output_type": "stream",
     "text": [
      "a: 0.571 ± 0.014\n",
      "b: 0.121 ± 0.009\n"
     ]
    }
   ],
   "source": [
    "estimators = fitter.get_estimators()\n",
    "errors = fitter.get_errors()\n",
    "print(f\"a: {estimators[0]:.3f} ± {errors[0]:.3f}\")\n",
    "print(f\"b: {estimators[1]:.3f} ± {errors[1]:.3f}\")"
   ]
  },
  {
   "cell_type": "markdown",
   "metadata": {},
   "source": [
    "**6**. Reportar la correlación entre los estimadores de los parámetros $a$ y $b$"
   ]
  },
  {
   "cell_type": "code",
   "execution_count": 52,
   "metadata": {},
   "outputs": [
    {
     "name": "stdout",
     "output_type": "stream",
     "text": [
      "Correlación entre a y b: 0.027\n"
     ]
    }
   ],
   "source": [
    "corr = fitter.get_correlation_matrix()[0,1]\n",
    "print(f\"Correlación entre a y b: {corr:.3f}\")"
   ]
  },
  {
   "cell_type": "markdown",
   "metadata": {},
   "source": [
    "**7**. Graficar la región de confianza $1\\sigma$ de los parámetros $a$ y $b$ "
   ]
  },
  {
   "cell_type": "code",
   "execution_count": 70,
   "metadata": {},
   "outputs": [
    {
     "name": "stdout",
     "output_type": "stream",
     "text": [
      "Help on method plot_confidence_regions in module likefit:\n",
      "\n",
      "plot_confidence_regions(parx_index=0, pary_index=1, nsigma=2, ax=None) method of likefit.Binomial instance\n",
      "    Plot the confidence regions for a pair of parameters.\n",
      "\n",
      "    Parameters\n",
      "    ----------\n",
      "    parx_index : int\n",
      "        Index of the x-axis parameter. The first parameter is plotted by default.\n",
      "    pary_index : int\n",
      "        Index of the y-axis parameter. The second parameter is plotted by default.\n",
      "    nsigma : int, optional\n",
      "        Number of sigma confidence levels to plot.\n",
      "    ax : matplotlib.axis.Axis, optional\n",
      "        Axis to make the plot.\n",
      "\n",
      "    Returns\n",
      "    -------\n",
      "    None\n",
      "\n"
     ]
    }
   ],
   "source": [
    "help(fitter.plot_confidence_regions)"
   ]
  },
  {
   "cell_type": "code",
   "execution_count": 68,
   "metadata": {},
   "outputs": [
    {
     "data": {
      "text/plain": [
       "<matplotlib.legend.Legend at 0x257cd7c0e00>"
      ]
     },
     "execution_count": 68,
     "metadata": {},
     "output_type": "execute_result"
    },
    {
     "data": {
      "image/png": "[encoded data removed]",
      "text/plain": [
       "<Figure size 640x480 with 1 Axes>"
      ]
     },
     "metadata": {},
     "output_type": "display_data"
    }
   ],
   "source": [
    "fig, ax = plt.subplots()\n",
    "ax.set_xlabel(\"a\")\n",
    "ax.set_ylabel(\"b\")\n",
    "ax.title.set_text(\"Región de confianza $1\\\\sigma$ para los parámetros a y b\")\n",
    "ax.plot(estimators[0], estimators[1], 'ro', label='Estimador')\n",
    "fitter.plot_confidence_regions(nsigma = 1, ax = ax)\n",
    "ax.legend()"
   ]
  },
  {
   "cell_type": "markdown",
   "metadata": {
    "id": "3QBQI7xm0zt-"
   },
   "source": [
    "**8**. Calcular el $\\chi^2$ del ajuste y su p-valor. Decidir si el modelo es consistente con los datos."
   ]
  },
  {
   "cell_type": "code",
   "execution_count": 105,
   "metadata": {
    "executionInfo": {
     "elapsed": 11,
     "status": "ok",
     "timestamp": 1701262169656,
     "user": {
      "displayName": "Diego Ravignani Guerrero",
      "userId": "10540030550289703153"
     },
     "user_tz": 180
    },
    "id": "QRrRt2nb06Cz"
   },
   "outputs": [
    {
     "name": "stdout",
     "output_type": "stream",
     "text": [
      "χ^2: 24.011\n",
      "P-valor: 0.155\n"
     ]
    }
   ],
   "source": [
    "chi2 = fitter.get_chi_square()\n",
    "pvalue = fitter.get_pvalue()\n",
    "chi = '\\u03C7'\n",
    "print(f\"{chi}^2: {chi2:.3f}\")\n",
    "print(f\"P-valor: {pvalue:.3f}\")"
   ]
  },
  {
   "cell_type": "markdown",
   "metadata": {},
   "source": [
    "El modelo es consistente con los datos, pues el valor de $\\chi^2$ es cercano a los grados de libertad (18) y el p-valor es lo suficientemente grande, lo que sugiere que las discrepancias entre los datos observados y el modelo pueden explicarse por el azar, como ruido o errores propagados."
   ]
  },
  {
   "cell_type": "markdown",
   "metadata": {
    "id": "5O6RgzA-vnaf"
   },
   "source": [
    "**9**. Graficar los datos y el ajuste incluyendo la banda de error del ajuste"
   ]
  },
  {
   "cell_type": "code",
   "execution_count": 110,
   "metadata": {},
   "outputs": [
    {
     "name": "stdout",
     "output_type": "stream",
     "text": [
      "Help on method plot_fit in module likefit:\n",
      "\n",
      "plot_fit(xlabel='x', ylabel='y', ax=None) method of likefit.Binomial instance\n",
      "    Plot the data, the fit, and the error band.\n",
      "\n",
      "    Parameters\n",
      "    ----------\n",
      "    xlabel : str, optional\n",
      "        Label for the x-axis.\n",
      "    ylabel : str, optional\n",
      "        Label for the y-axis.\n",
      "    ax : matplotlib.axis.Axis, optional\n",
      "        Axis to make the plot.\n",
      "\n"
     ]
    }
   ],
   "source": [
    "help(fitter.plot_fit)"
   ]
  },
  {
   "cell_type": "code",
   "execution_count": 115,
   "metadata": {},
   "outputs": [
    {
     "data": {
      "image/png": "[encoded data removed]",
      "text/plain": [
       "<Figure size 640x480 with 1 Axes>"
      ]
     },
     "metadata": {},
     "output_type": "display_data"
    }
   ],
   "source": [
    "fig, ax = plt.subplots()\n",
    "ax.set_xlabel(\"E\")\n",
    "ax.set_ylabel(\"$\\\\hat{\\\\varepsilon}$\", fontsize=15)\n",
    "fitter.plot_fit(ax=ax)"
   ]
  }
 ],
 "metadata": {
  "colab": {
   "provenance": []
  },
  "kernelspec": {
   "display_name": "base",
   "language": "python",
   "name": "python3"
  },
  "language_info": {
   "codemirror_mode": {
    "name": "ipython",
    "version": 3
   },
   "file_extension": ".py",
   "mimetype": "text/x-python",
   "name": "python",
   "nbconvert_exporter": "python",
   "pygments_lexer": "ipython3",
   "version": "3.12.4"
  }
 },
 "nbformat": 4,
 "nbformat_minor": 4
}
